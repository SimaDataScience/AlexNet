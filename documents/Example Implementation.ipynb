{
 "cells": [
  {
   "cell_type": "markdown",
   "id": "6bd344fa",
   "metadata": {},
   "source": [
    "### Basic Implemenation: Creating and Fitting an AlexNet Model\n",
    "Let's create and train an AlexNet inspired model. Before we begin, we must ensure our data is in the desired format. We assume that all images are located in a single directory with subdirectories 'train/', 'val/', and 'test/'. Additionally, we assume that we have a json file mapping image ids to their corresponding label, and another json file mapping labels to label index. The label indices can be arbitrary, but must be provided for the sake of consistency across sessions. While the variable 'data_path' may be either a local path or a URL link to the desired image directory, both 'label_path' and 'label_encoding' must be local.\n",
    "\n",
    "Let's begin by defining these paths."
   ]
  },
  {
   "cell_type": "code",
   "execution_count": null,
   "id": "05655a49",
   "metadata": {},
   "outputs": [],
   "source": [
    "from AlexNet import AlexNet\n",
    "\n",
    "data_path = 'DIRECTORY-CONTAINING-IMAGE-SUBDIRECTORIES'\n",
    "\n",
    "label_path = 'PATH-TO-IMAGE-LABEL-MAP.json'\n",
    "# Example format: {image_1: 'cat', image_2: 'mug', ...}\n",
    "\n",
    "label_encoding = 'PATH-TO-LABEL-INDEX-MAP.json'\n",
    "# Example format: {'cat': 0, 'mug': 1, ...}\n"
   ]
  },
  {
   "cell_type": "markdown",
   "id": "eb0e557d",
   "metadata": {},
   "source": [
    "With the paths prepared, creating and fitting our model is as simple as running the following:"
   ]
  },
  {
   "cell_type": "code",
   "execution_count": null,
   "id": "2aa02fa5",
   "metadata": {},
   "outputs": [],
   "source": [
    "# Create and fit model.\n",
    "model = AlexNet(data_path, label_path, label_encoding)\n",
    "model.fit(epochs=5)\n"
   ]
  },
  {
   "cell_type": "markdown",
   "id": "24cb7aaa",
   "metadata": {},
   "source": [
    "And just like that, we're ready to make predictions with our model. The 'predict' method can be used to return the 1,000 dimensional output array, or the method 'predict_n' can be used to return the n classes with the highest probability. All image augmentations are handled automatically, so the location of our 256x256x3 input image is the only input that is needed.\n"
   ]
  },
  {
   "cell_type": "code",
   "execution_count": null,
   "id": "1dffb91c",
   "metadata": {},
   "outputs": [],
   "source": [
    "test_image = '/Users/justinsima/dir/implementations/datasets/ImageNet/dummy_data/test/ILSVRC2012_test_00018560.JPEG'\n",
    "\n",
    "pred = model.predict(test_image)\n",
    "top_pred = model.predict_n(test_image, n=1)\n",
    "\n",
    "print(f'Prediction Probabilities: \\n{pred}')\n",
    "print(f'Most Likely Class: {top_pred})"
   ]
  }
 ],
 "metadata": {
  "kernelspec": {
   "display_name": "Python [conda env:tensorflow]",
   "language": "python",
   "name": "conda-env-tensorflow-py"
  },
  "language_info": {
   "codemirror_mode": {
    "name": "ipython",
    "version": 3
   },
   "file_extension": ".py",
   "mimetype": "text/x-python",
   "name": "python",
   "nbconvert_exporter": "python",
   "pygments_lexer": "ipython3",
   "version": "3.9.7"
  }
 },
 "nbformat": 4,
 "nbformat_minor": 5
}
